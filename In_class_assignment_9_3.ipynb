{
  "nbformat": 4,
  "nbformat_minor": 0,
  "metadata": {
    "colab": {
      "provenance": [],
      "authorship_tag": "ABX9TyPBA+REv2kGefxUEUyGbNCm",
      "include_colab_link": true
    },
    "kernelspec": {
      "name": "python3",
      "display_name": "Python 3"
    },
    "language_info": {
      "name": "python"
    }
  },
  "cells": [
    {
      "cell_type": "markdown",
      "metadata": {
        "id": "view-in-github",
        "colab_type": "text"
      },
      "source": [
        "<a href=\"https://colab.research.google.com/github/ktc64-sys/BTE-320/blob/main/In_class_assignment_9_3.ipynb\" target=\"_parent\"><img src=\"https://colab.research.google.com/assets/colab-badge.svg\" alt=\"Open In Colab\"/></a>"
      ]
    },
    {
      "cell_type": "code",
      "execution_count": null,
      "metadata": {
        "collapsed": true,
        "id": "1J3WG9S_gosZ"
      },
      "outputs": [],
      "source": [
        "#gross profit = Sales - COGS\n",
        "#cogs = 40% * sales\n",
        "\n",
        "#inputs: sales and cogs_pct\n",
        "sales = input(\"Enter sales ($): \")\n",
        "sales = float(sales)\n",
        "\n",
        "cogs_pct = input(\"enter cost of goods sold (%): \")\n",
        "cogs_pct = float(cogs_pct)\n",
        "\n",
        "# Define tax rate (assuming a placeholder value, you can change this)\n",
        "rate = 20  # Example tax rate in percentage\n",
        "\n",
        "# Processes: calculate actual cost of goods sold, taxes and net income\n",
        "cogs = sales * cogs_pct / 100\n",
        "grossProfit = sales - cogs\n",
        "taxes = grossProfit * (rate / 100)\n",
        "netincome = grossProfit - taxes\n",
        "\n",
        "#Outputs: display cogs and grossProfit\n",
        "print(f\"Cost of Goods sold: ${cogs}\\nGross Profit: ${grossProfit}\\nTaxes: ${taxes} \\nNet Income: ${netincome}\")"
      ]
    },
    {
      "cell_type": "markdown",
      "source": [
        "In Class assignment  9-8"
      ],
      "metadata": {
        "id": "trpI9nruJ4sU"
      }
    },
    {
      "cell_type": "code",
      "source": [
        "#outputs: display cogs and grossProfit\n",
        "print(f\"Cost of Goods sold: ${cogs}\\nGross Profit: $(grossProfit)\\nTaxes: $(taxes) \\nNet Income: $(netIncome)\")\n",
        "#print(f\"Gross Profit: $(grossProfit)\")"
      ],
      "metadata": {
        "id": "PzwbQG5hOYdZ"
      },
      "execution_count": null,
      "outputs": []
    },
    {
      "cell_type": "code",
      "source": [
        "# Inputs\n",
        "demand= int(input(\"Enter demand (units/year): \")) # D\n",
        "reorder= float(input(\"Enter reorder cost ($/unit): \")) # S\n",
        "holding= float(input(\"Enter holding cost ($/unit/year): \")) #H\n",
        "\n",
        "# Processes\n",
        "eoq = (2 * demand * reorder / holding) ** 0.5\n",
        "\n",
        "# Output\n",
        "print(f\"EOQ: {eoq} units\")"
      ],
      "metadata": {
        "id": "3poKseeJOtyg"
      },
      "execution_count": null,
      "outputs": []
    }
  ]
}