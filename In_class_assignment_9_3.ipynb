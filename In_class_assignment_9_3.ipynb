{
  "nbformat": 4,
  "nbformat_minor": 0,
  "metadata": {
    "colab": {
      "provenance": [],
      "authorship_tag": "ABX9TyNscPq5jSzO6CoiK/tnCSx8",
      "include_colab_link": true
    },
    "kernelspec": {
      "name": "python3",
      "display_name": "Python 3"
    },
    "language_info": {
      "name": "python"
    }
  },
  "cells": [
    {
      "cell_type": "markdown",
      "metadata": {
        "id": "view-in-github",
        "colab_type": "text"
      },
      "source": [
        "<a href=\"https://colab.research.google.com/github/ktc64-sys/BTE-320/blob/main/In_class_assignment_9_3.ipynb\" target=\"_parent\"><img src=\"https://colab.research.google.com/assets/colab-badge.svg\" alt=\"Open In Colab\"/></a>"
      ]
    },
    {
      "cell_type": "code",
      "execution_count": null,
      "metadata": {
        "collapsed": true,
        "id": "1J3WG9S_gosZ"
      },
      "outputs": [],
      "source": [
        "#gross profit = Sales - COGS\n",
        "#cogs = 40% * sales\n",
        "\n",
        "#inputs: sales and cogs_pct\n",
        "sales = input(\"Enter sales ($): \")\n",
        "sales = float(sales)\n",
        "\n",
        "cogs_pct = input(\"enter cost of goods sold (%): \")\n",
        "cogs_pct = float(cogs_pct)\n",
        "\n",
        "# Define tax rate (assuming a placeholder value, you can change this)\n",
        "rate = 20  # Example tax rate in percentage\n",
        "\n",
        "# Processes: calculate actual cost of goods sold, taxes and net income\n",
        "cogs = sales * cogs_pct / 100\n",
        "grossProfit = sales - cogs\n",
        "taxes = grossProfit * (rate / 100)\n",
        "netincome = grossProfit - taxes\n",
        "\n",
        "#Outputs: display cogs and grossProfit\n",
        "print(f\"Cost of Goods sold: ${cogs}\\nGross Profit: ${grossProfit}\\nTaxes: ${taxes} \\nNet Income: ${netincome}\")"
      ]
    },
    {
      "cell_type": "markdown",
      "source": [
        "In Class assignment  9-8"
      ],
      "metadata": {
        "id": "trpI9nruJ4sU"
      }
    },
    {
      "cell_type": "code",
      "source": [
        "#outputs: display cogs and grossProfit\n",
        "print(f\"Cost of Goods sold: ${cogs}\\nGross Profit: $(grossProfit)\\nTaxes: $(taxes) \\nNet Income: $(netIncome)\")\n",
        "#print(f\"Gross Profit: $(grossProfit)\")"
      ],
      "metadata": {
        "id": "PzwbQG5hOYdZ"
      },
      "execution_count": null,
      "outputs": []
    },
    {
      "cell_type": "code",
      "source": [
        "# Inputs: D, S, H\n",
        "demand = int(input(\"Enter demand (units/year): \")) # D\n",
        "\n",
        "reorder = float(input(\"Enter reorder cost ($/unit): \")) # S\n",
        "\n",
        "holding = float(input(\"Enter holding cost ($/unit/year): \")) #H\n",
        "\n",
        "# Processes\n",
        "eoq = ((2 * demand * reorder) / holding) ** 0.5\n",
        "\n",
        "# Output\n",
        "print(f\"EOQ: {eoq} units\")"
      ],
      "metadata": {
        "id": "Qi33AvSwQWco"
      },
      "execution_count": null,
      "outputs": []
    },
    {
      "cell_type": "markdown",
      "source": [
        "In class assignment 9-10"
      ],
      "metadata": {
        "id": "p7mS7TAwq4Fo"
      }
    },
    {
      "cell_type": "code",
      "source": [
        "x = int(input(\"Enter a number: \"))\n",
        "\n",
        "if x % 2 == 0:\n",
        "  if x % 3 == 0:\n",
        "    print(f\"{x} is divisible by 2 and 3.\")\n",
        "  else:\n",
        "    print(f\"{x} is divisible by 2 but not by 3.\")\n",
        "else:\n",
        "  if x % 3 == 0:\n",
        "    print(f\"{x} is divisible by 3 but not by 2.\")\n",
        "  else:\n",
        "    print(f\"{x} is not divisible by any.\")"
      ],
      "metadata": {
        "colab": {
          "base_uri": "https://localhost:8080/"
        },
        "id": "05Ol9PHAq9Ka",
        "outputId": "01cc090f-0c1b-427c-8200-bb9ac89422a3"
      },
      "execution_count": null,
      "outputs": [
        {
          "output_type": "stream",
          "name": "stdout",
          "text": [
            "Enter a number: 9\n",
            "9 is divisible by 3 but not by 2.\n"
          ]
        }
      ]
    },
    {
      "cell_type": "markdown",
      "source": [
        "In Class assignment 9-15"
      ],
      "metadata": {
        "id": "MkJhCMOQMGv7"
      }
    },
    {
      "cell_type": "code",
      "source": [
        "n1 = float(input(\"Enter n1:\"))\n",
        "n2 = float(input( \"Enter n2: \"))\n",
        "s = input(\"enter operator (+, -, *, /, //, **, %): \")\n",
        "\n",
        "if op == \"+\":\n",
        "  res = n1 + n2\n",
        "elif op == \"-\":\n",
        "  res = n1 - n2\n",
        "elif op == \"*\":\n",
        "  res = n1 * n2\n",
        "elif op == \"/\":\n",
        "  res = n1 / n2\n",
        "elif op == \"//\":\n",
        "  res = n1 // n2\n",
        "elif op == \"**\":\n",
        "  res = n1 ** n2\n",
        "elif op == \"%\":\n",
        "  res = n1 % n2\n",
        "else:\n",
        "  res = none\n",
        "  print(\"invalid operator\")\n",
        "\n",
        "print(f\"result: {res}\")"
      ],
      "metadata": {
        "id": "Ls89g8JBMKfM"
      },
      "execution_count": null,
      "outputs": []
    },
    {
      "cell_type": "markdown",
      "source": [
        "In class assignment 9-17"
      ],
      "metadata": {
        "id": "p8cE7H9AlZJr"
      }
    },
    {
      "cell_type": "code",
      "source": [
        "print(\"Hour    Fee\")\n",
        "for hour in range(1,9):\n",
        "  fee = 5 + 2.5 * hour\n",
        "  if fee < 10.0:\n",
        "    fee = 10.0\n",
        "  elif fee > 20.0:\n",
        "    fee = 20.0\n",
        "\n",
        "\n",
        "  print(f\"{hour}\\t{fee}\")\n",
        ""
      ],
      "metadata": {
        "colab": {
          "base_uri": "https://localhost:8080/"
        },
        "id": "eigFyWHolX1D",
        "outputId": "f6147611-c6a9-4af5-8289-4e2a9aceed98"
      },
      "execution_count": 1,
      "outputs": [
        {
          "output_type": "stream",
          "name": "stdout",
          "text": [
            "Hour    Fee\n",
            "1\t10.0\n",
            "2\t10.0\n",
            "3\t12.5\n",
            "4\t15.0\n",
            "5\t17.5\n",
            "6\t20.0\n",
            "7\t20.0\n",
            "8\t20.0\n"
          ]
        }
      ]
    },
    {
      "cell_type": "markdown",
      "source": [
        "In class Assignment 9-22"
      ],
      "metadata": {
        "id": "3hATKBbrmIHL"
      }
    },
    {
      "cell_type": "code",
      "source": [
        "for ad in range (0, 201, 25):\n",
        "  revenue = 20 * 10 + 10 * 2 * ad ** 0.5\n",
        "  expenses = 200 + ad\n",
        "  profit = revenue - expenses\n",
        "  print(ad, round(profit))"
      ],
      "metadata": {
        "colab": {
          "base_uri": "https://localhost:8080/"
        },
        "id": "n-nOYyxjmLpv",
        "outputId": "1ad2944c-98c3-48a2-f8e8-4998882919b7"
      },
      "execution_count": 3,
      "outputs": [
        {
          "output_type": "stream",
          "name": "stdout",
          "text": [
            "0 0\n",
            "25 75\n",
            "50 91\n",
            "75 98\n",
            "100 100\n",
            "125 99\n",
            "150 95\n",
            "175 90\n",
            "200 83\n"
          ]
        }
      ]
    }
  ]
}