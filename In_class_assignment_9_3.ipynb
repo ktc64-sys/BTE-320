{
  "nbformat": 4,
  "nbformat_minor": 0,
  "metadata": {
    "colab": {
      "provenance": [],
      "authorship_tag": "ABX9TyPOUUjFyPXwj8i/KrWXz2g/",
      "include_colab_link": true
    },
    "kernelspec": {
      "name": "python3",
      "display_name": "Python 3"
    },
    "language_info": {
      "name": "python"
    }
  },
  "cells": [
    {
      "cell_type": "markdown",
      "metadata": {
        "id": "view-in-github",
        "colab_type": "text"
      },
      "source": [
        "<a href=\"https://colab.research.google.com/github/ktc64-sys/BTE-320/blob/main/In_class_assignment_9_3.ipynb\" target=\"_parent\"><img src=\"https://colab.research.google.com/assets/colab-badge.svg\" alt=\"Open In Colab\"/></a>"
      ]
    },
    {
      "cell_type": "code",
      "execution_count": null,
      "metadata": {
        "collapsed": true,
        "id": "1J3WG9S_gosZ"
      },
      "outputs": [],
      "source": [
        "#gross profit = Sales - COGS\n",
        "#cogs = 40% * sales\n",
        "\n",
        "#inputs: sales and cogs_pct\n",
        "sales = input(\"Enter sales ($): \")\n",
        "sales = float(sales)\n",
        "\n",
        "\n",
        "cogs_pct = input(\"enter cost of goods sold (%): \")\n",
        "cogs_pct = float(cogs_pct)\n",
        "\n",
        "# Processes: calculate actual cost of goods sold, taxes and net income\n",
        "cogs = sales * cogs_pct / 100\n",
        "grossProfit = sales - cogs\n",
        "taxes = grossProfit * (rate / 100)\n",
        "netincome = grossProfit - taxes\n",
        "\n",
        "#Outputs: display cogs and grossProfit\n",
        "print(f\"Cost of Goods sold: ${cogs}\")\n",
        "#print(f\"Gross Profit: ${grossProfit}\")\n"
      ]
    },
    {
      "cell_type": "code",
      "source": [],
      "metadata": {
        "id": "--xq-WjpnCPN"
      },
      "execution_count": null,
      "outputs": []
    }
  ]
}